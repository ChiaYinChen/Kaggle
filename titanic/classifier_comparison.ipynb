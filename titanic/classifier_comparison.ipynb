{
 "cells": [
  {
   "cell_type": "markdown",
   "metadata": {},
   "source": [
    "# Titanic: Machine Learning from Disaster\n",
    "### _陳佳吟 Chia-Yin Chen_\n",
    "### _2017-11-05_\n",
    "---"
   ]
  },
  {
   "cell_type": "markdown",
   "metadata": {},
   "source": [
    "# 1 Introduction\n",
    "這份報告專注在機器學習模型的選擇及參數上的調整，使用Python的Scikit-Learn套件來實作。在這邊將用我已在R中做過[資料預處理(特徵工程及遺漏值處理的部分)](https://chiayinchen.github.io/Kaggle/titanic/analysis_with_randomForest)的titanic資料集，運用機器學習(machine learning)技術來預測鐵達尼號沉船後哪些乘客會存活下來。\n",
    "# 2 Feature selection"
   ]
  },
  {
   "cell_type": "code",
   "execution_count": 1,
   "metadata": {},
   "outputs": [
    {
     "name": "stdout",
     "output_type": "stream",
     "text": [
      "<class 'pandas.core.frame.DataFrame'>\n",
      "RangeIndex: 1309 entries, 0 to 1308\n",
      "Data columns (total 20 columns):\n",
      "PassengerId     1309 non-null int64\n",
      "Survived        891 non-null float64\n",
      "Pclass          1309 non-null int64\n",
      "Name            1309 non-null object\n",
      "Sex             1309 non-null object\n",
      "Age             1309 non-null float64\n",
      "SibSp           1309 non-null int64\n",
      "Parch           1309 non-null int64\n",
      "Ticket          1309 non-null object\n",
      "Fare            1309 non-null float64\n",
      "Cabin           295 non-null object\n",
      "Embarked        1309 non-null object\n",
      "Set             1309 non-null object\n",
      "Title           1309 non-null object\n",
      "Child           1309 non-null object\n",
      "identity        1309 non-null object\n",
      "family_size     1309 non-null int64\n",
      "family_type     1309 non-null object\n",
      "travel_group    1309 non-null object\n",
      "group_size      1309 non-null int64\n",
      "dtypes: float64(3), int64(6), object(11)\n",
      "memory usage: 204.6+ KB\n",
      "None\n"
     ]
    }
   ],
   "source": [
    "import numpy as np\n",
    "import pandas as pd\n",
    "\n",
    "# 資料讀取\n",
    "full_data = pd.read_csv(\"data\\\\titanic_data.csv\")\n",
    "\n",
    "full_data[\"travel_group\"] = full_data[\"travel_group\"].astype(str)\n",
    "print(full_data.info())"
   ]
  },
  {
   "cell_type": "code",
   "execution_count": 2,
   "metadata": {},
   "outputs": [
    {
     "name": "stderr",
     "output_type": "stream",
     "text": [
      "C:\\Users\\Denise\\Anaconda3\\lib\\site-packages\\ipykernel_launcher.py:9: SettingWithCopyWarning: \n",
      "A value is trying to be set on a copy of a slice from a DataFrame.\n",
      "Try using .loc[row_indexer,col_indexer] = value instead\n",
      "\n",
      "See the caveats in the documentation: http://pandas.pydata.org/pandas-docs/stable/indexing.html#indexing-view-versus-copy\n",
      "  if __name__ == '__main__':\n",
      "C:\\Users\\Denise\\Anaconda3\\lib\\site-packages\\ipykernel_launcher.py:10: SettingWithCopyWarning: \n",
      "A value is trying to be set on a copy of a slice from a DataFrame.\n",
      "Try using .loc[row_indexer,col_indexer] = value instead\n",
      "\n",
      "See the caveats in the documentation: http://pandas.pydata.org/pandas-docs/stable/indexing.html#indexing-view-versus-copy\n",
      "  # Remove the CWD from sys.path while we load stuff.\n"
     ]
    },
    {
     "data": {
      "text/plain": [
       "((891, 20), (891,), (418, 20))"
      ]
     },
     "execution_count": 2,
     "metadata": {},
     "output_type": "execute_result"
    }
   ],
   "source": [
    "# 轉換類別型變數為數值（One-hot encoding）\n",
    "dummies_variables = pd.get_dummies(full_data.loc[:, [\"Sex\", \"Embarked\", \"Title\", \"Child\", \"family_type\"]]).astype(\"int64\")\n",
    "\n",
    "full_data = full_data.join(dummies_variables)\n",
    "full_data = full_data.drop([\"Sex\", \"Embarked\", \"Title\", \"Child\", \"family_type\"], axis=1)\n",
    "\n",
    "# 整理 features 跟 target\n",
    "train = full_data[full_data.Set == \"Train\"]\n",
    "train[\"Survived\"] = train[\"Survived\"].astype(int)\n",
    "train[\"Survived\"] = train[\"Survived\"].astype(str)\n",
    "test = full_data[full_data.Set == \"Test\"]\n",
    "\n",
    "# define training and testing sets\n",
    "X_train = train.drop([\"PassengerId\", \"Name\", \"Age\", \"SibSp\", \"Parch\", \"Ticket\", \"Cabin\", \"Set\", \"identity\", \"family_size\", \"travel_group\", \"Survived\"], axis = 1)\n",
    "Y_train = train[\"Survived\"]\n",
    "X_test = test.drop([\"PassengerId\", \"Name\", \"Age\", \"SibSp\", \"Parch\", \"Ticket\", \"Cabin\", \"Set\", \"identity\", \"family_size\", \"travel_group\", \"Survived\"], axis = 1)\n",
    "\n",
    "X_train.shape, Y_train.shape, X_test.shape"
   ]
  },
  {
   "cell_type": "markdown",
   "metadata": {},
   "source": [
    "# 3 Classifier Comparison\n",
    "## 3.1 支持向量機 (Support Vector Machine)"
   ]
  },
  {
   "cell_type": "code",
   "execution_count": 3,
   "metadata": {},
   "outputs": [],
   "source": [
    "from sklearn.svm import SVC\n",
    "from sklearn.model_selection import cross_val_score, ShuffleSplit\n",
    "\n",
    "## Support Vector Machine\n",
    "#svm_kernels = [\"linear\", \"rbf\"]\n",
    "\n",
    "#for kernel in svm_kernels:\n",
    "#    svm = SVC(kernel = kernel)\n",
    "#    #cv = ShuffleSplit(n_splits = 10, test_size = 0.3, random_state = 87)\n",
    "#    svm_acc = cross_val_score(svm, X_train, Y_train, cv = 5, scoring = \"accuracy\").mean()\n",
    "#    print(\"[%s] accurary: %.2f%%\" % (kernel, svm_acc * 100))\n"
   ]
  },
  {
   "cell_type": "code",
   "execution_count": 4,
   "metadata": {
    "collapsed": true
   },
   "outputs": [],
   "source": [
    "#svm = SVC(kernel = \"linear\")\n",
    "#svm.fit(X_train, Y_train)\n",
    "#Y_pred = svm.predict(X_test)\n",
    "\n",
    "#submission = pd.DataFrame({\n",
    "#    \"PassengerId\": test[\"PassengerId\"],\n",
    "#    \"Survived\": Y_pred\n",
    "#})\n",
    "#submission.to_csv(\"result\\\\svm_submission.csv\", index = False)"
   ]
  },
  {
   "cell_type": "code",
   "execution_count": 5,
   "metadata": {},
   "outputs": [
    {
     "name": "stdout",
     "output_type": "stream",
     "text": [
      "SVC(C=100, cache_size=200, class_weight=None, coef0=0.0,\n",
      "  decision_function_shape=None, degree=3, gamma='auto', kernel='linear',\n",
      "  max_iter=-1, probability=False, random_state=None, shrinking=True,\n",
      "  tol=0.001, verbose=False)\n"
     ]
    }
   ],
   "source": [
    "from sklearn.metrics import make_scorer, accuracy_score\n",
    "from sklearn.model_selection import GridSearchCV\n",
    "\n",
    "svm = SVC()\n",
    "\n",
    "parameters = [{\"C\": [1, 10, 100, 1000], \"kernel\": [\"linear\"]},\n",
    "              {\"C\": [1, 10, 100, 1000], \"gamma\": [0.01, 1, 10, 100], \"kernel\": [\"rbf\"]}]\n",
    "acc_scorer = make_scorer(accuracy_score)\n",
    "svm_grid = GridSearchCV(svm, parameters, scoring = acc_scorer)\n",
    "svm_grid = svm_grid.fit(X_train, Y_train)\n",
    "print(svm_grid.best_estimator_)"
   ]
  },
  {
   "cell_type": "code",
   "execution_count": 6,
   "metadata": {},
   "outputs": [
    {
     "name": "stdout",
     "output_type": "stream",
     "text": [
      "0.83164983165\n",
      "{'C': 100, 'kernel': 'linear'}\n"
     ]
    }
   ],
   "source": [
    "print(svm_grid.best_score_)\n",
    "print(svm_grid.best_params_)"
   ]
  },
  {
   "cell_type": "code",
   "execution_count": 7,
   "metadata": {
    "collapsed": true
   },
   "outputs": [],
   "source": [
    "svm = svm_grid.best_estimator_\n",
    "svm.fit(X_train, Y_train)\n",
    "Y_pred = svm.predict(X_test)\n",
    "\n",
    "submission = pd.DataFrame({\n",
    "    \"PassengerId\": test[\"PassengerId\"],\n",
    "    \"Survived\": Y_pred\n",
    "})\n",
    "submission.to_csv(\"result\\\\svm_grid_submission.csv\", index = False)"
   ]
  },
  {
   "cell_type": "markdown",
   "metadata": {},
   "source": [
    "## 3.2 羅吉斯迴歸 (Logistic Regression)"
   ]
  },
  {
   "cell_type": "code",
   "execution_count": 8,
   "metadata": {},
   "outputs": [
    {
     "name": "stdout",
     "output_type": "stream",
     "text": [
      "Accuracy: 82.94%\n"
     ]
    }
   ],
   "source": [
    "from sklearn.linear_model import LogisticRegression\n",
    "\n",
    "# Logistic Regression\n",
    "lr = LogisticRegression()\n",
    "lr.fit(X_train, Y_train)\n",
    "Y_pred = lr.predict(X_test)\n",
    "print(\"Accuracy: %.2f%%\" % (lr.score(X_train, Y_train) * 100))"
   ]
  },
  {
   "cell_type": "code",
   "execution_count": 9,
   "metadata": {
    "collapsed": true
   },
   "outputs": [],
   "source": [
    "submission = pd.DataFrame({\n",
    "    \"PassengerId\": test[\"PassengerId\"],\n",
    "    \"Survived\": Y_pred\n",
    "})\n",
    "submission.to_csv(\"result\\\\lr_submission.csv\", index = False)"
   ]
  },
  {
   "cell_type": "markdown",
   "metadata": {},
   "source": [
    "## 3.3 K最近鄰 (K-Nearest Neighbor)"
   ]
  },
  {
   "cell_type": "code",
   "execution_count": 10,
   "metadata": {},
   "outputs": [
    {
     "name": "stdout",
     "output_type": "stream",
     "text": [
      "[n_neighbors = 3] accurary: 78.57%\n",
      "[n_neighbors = 5] accurary: 78.35%\n",
      "[n_neighbors = 7] accurary: 79.92%\n",
      "[n_neighbors = 9] accurary: 79.58%\n",
      "[n_neighbors = 11] accurary: 77.45%\n"
     ]
    }
   ],
   "source": [
    "from sklearn.neighbors import KNeighborsClassifier\n",
    "\n",
    "# k-Nearest Neighbor\n",
    "ks = [3, 5, 7, 9, 11]\n",
    "for k in ks:\n",
    "    knn = KNeighborsClassifier(n_neighbors = k)\n",
    "    knn_acc = cross_val_score(knn, X_train, Y_train, cv = 5, scoring = \"accuracy\").mean()\n",
    "    print(\"[n_neighbors = %i] accurary: %.2f%%\" % (k, knn_acc * 100))"
   ]
  },
  {
   "cell_type": "code",
   "execution_count": 11,
   "metadata": {},
   "outputs": [],
   "source": [
    "knn = KNeighborsClassifier(n_neighbors = 7)\n",
    "knn.fit(X_train, Y_train)\n",
    "Y_pred = knn.predict(X_test)\n",
    "\n",
    "submission = pd.DataFrame({\n",
    "    \"PassengerId\": test[\"PassengerId\"],\n",
    "    \"Survived\": Y_pred\n",
    "})\n",
    "submission.to_csv(\"result\\\\knn_submission.csv\", index = False)"
   ]
  },
  {
   "cell_type": "markdown",
   "metadata": {},
   "source": [
    "## 3.4 決策樹 (Decision Tree)"
   ]
  },
  {
   "cell_type": "code",
   "execution_count": 12,
   "metadata": {},
   "outputs": [
    {
     "name": "stdout",
     "output_type": "stream",
     "text": [
      "[gini with max_depth = 2] accurary: 78.34%\n",
      "[entropy with max_depth = 2] accurary: 78.91%\n",
      "[gini with max_depth = 3] accurary: 82.61%\n",
      "[entropy with max_depth = 3] accurary: 83.17%\n",
      "[gini with max_depth = 4] accurary: 82.38%\n",
      "[entropy with max_depth = 4] accurary: 83.05%\n",
      "[gini with max_depth = 5] accurary: 79.91%\n",
      "[entropy with max_depth = 5] accurary: 80.25%\n"
     ]
    }
   ],
   "source": [
    "from sklearn.tree import DecisionTreeClassifier\n",
    "\n",
    "# Decision Tree\n",
    "criterions = [\"gini\", \"entropy\"]\n",
    "max_depths = [2, 3, 4, 5]\n",
    "for max_depth in max_depths:\n",
    "    for criterion in criterions:\n",
    "        tree = DecisionTreeClassifier(criterion = criterion, max_depth = max_depth)\n",
    "        tree_acc = cross_val_score(tree, X_train, Y_train, cv = 5, scoring = \"accuracy\").mean()\n",
    "        print(\"[%s with max_depth = %i] accurary: %.2f%%\" % (criterion, max_depth, tree_acc * 100))"
   ]
  },
  {
   "cell_type": "code",
   "execution_count": 13,
   "metadata": {
    "collapsed": true
   },
   "outputs": [],
   "source": [
    "tree = DecisionTreeClassifier(criterion = \"entropy\", max_depth = 3)\n",
    "tree.fit(X_train, Y_train)\n",
    "Y_pred = tree.predict(X_test)\n",
    "\n",
    "submission = pd.DataFrame({\n",
    "    \"PassengerId\": test[\"PassengerId\"],\n",
    "    \"Survived\": Y_pred\n",
    "})\n",
    "submission.to_csv(\"result\\\\tree_submission.csv\", index = False)"
   ]
  },
  {
   "cell_type": "markdown",
   "metadata": {},
   "source": [
    "## 3.5 隨機森林 (Random Forest)"
   ]
  },
  {
   "cell_type": "code",
   "execution_count": 14,
   "metadata": {
    "scrolled": true
   },
   "outputs": [],
   "source": [
    "from sklearn.ensemble import RandomForestClassifier\n",
    "\n",
    "## Random Forests\n",
    "#estimators = [100, 200, 300, 500, 700, 1000]\n",
    "#criterions = [\"gini\", \"entropy\"]\n",
    "#max_depths = [2, 3, 4, 5]\n",
    "\n",
    "#for criterion in criterions:\n",
    "#    for estimator in estimators:\n",
    "#        rf = RandomForestClassifier(max_depth = 3, n_estimators = estimator, criterion = criterion)\n",
    "#        rf_acc = cross_val_score(rf, X_train, Y_train, cv = 5, scoring = \"accuracy\").mean()\n",
    "#        print(\"[%s with %i estimator] accurary: %.2f%%\" % (criterion, estimator, rf_acc * 100))\n"
   ]
  },
  {
   "cell_type": "code",
   "execution_count": 15,
   "metadata": {},
   "outputs": [
    {
     "name": "stdout",
     "output_type": "stream",
     "text": [
      "RandomForestClassifier(bootstrap=True, class_weight=None, criterion='entropy',\n",
      "            max_depth=10, max_features='auto', max_leaf_nodes=None,\n",
      "            min_impurity_split=1e-07, min_samples_leaf=1,\n",
      "            min_samples_split=20, min_weight_fraction_leaf=0.0,\n",
      "            n_estimators=300, n_jobs=1, oob_score=False, random_state=None,\n",
      "            verbose=0, warm_start=False)\n"
     ]
    }
   ],
   "source": [
    "from sklearn.metrics import make_scorer, accuracy_score\n",
    "from sklearn.model_selection import GridSearchCV\n",
    "\n",
    "forest = RandomForestClassifier()\n",
    "\n",
    "parameters = {\"n_estimators\": [50, 100, 200, 300], \n",
    "              \"criterion\": [\"entropy\", \"gini\"],\n",
    "              \"max_depth\": [3, 5, 10, 15, 20], \n",
    "              \"min_samples_split\": [2, 5, 10, 15, 20]\n",
    "             }\n",
    "acc_scorer = make_scorer(accuracy_score)\n",
    "rf_grid = GridSearchCV(forest, parameters, scoring = acc_scorer)\n",
    "rf_grid = rf_grid.fit(X_train, Y_train)\n",
    "print(rf_grid.best_estimator_)"
   ]
  },
  {
   "cell_type": "code",
   "execution_count": 16,
   "metadata": {},
   "outputs": [
    {
     "name": "stdout",
     "output_type": "stream",
     "text": [
      "0.835016835017\n",
      "{'criterion': 'entropy', 'max_depth': 10, 'min_samples_split': 20, 'n_estimators': 300}\n"
     ]
    }
   ],
   "source": [
    "print(rf_grid.best_score_)\n",
    "print(rf_grid.best_params_)"
   ]
  },
  {
   "cell_type": "code",
   "execution_count": 17,
   "metadata": {
    "collapsed": true
   },
   "outputs": [],
   "source": [
    "rf = rf_grid.best_estimator_\n",
    "rf.fit(X_train, Y_train)\n",
    "Y_pred = rf.predict(X_test)\n",
    "\n",
    "submission = pd.DataFrame({\n",
    "    \"PassengerId\": test[\"PassengerId\"],\n",
    "    \"Survived\": Y_pred\n",
    "})\n",
    "submission.to_csv(\"result\\\\rf_grid_submission.csv\", index = False)"
   ]
  }
 ],
 "metadata": {
  "kernelspec": {
   "display_name": "Python 3",
   "language": "python",
   "name": "python3"
  },
  "language_info": {
   "codemirror_mode": {
    "name": "ipython",
    "version": 3
   },
   "file_extension": ".py",
   "mimetype": "text/x-python",
   "name": "python",
   "nbconvert_exporter": "python",
   "pygments_lexer": "ipython3",
   "version": "3.6.1"
  }
 },
 "nbformat": 4,
 "nbformat_minor": 2
}
